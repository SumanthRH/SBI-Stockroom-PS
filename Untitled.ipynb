{
 "cells": [
  {
   "cell_type": "code",
   "execution_count": null,
   "metadata": {},
   "outputs": [],
   "source": [
    "from keras import models\n",
    "from keras import layers\n",
    "from keras.layers.normalization import BatchNormalization\n",
    "from keras.preprocessing.image import ImageDataGenerator \n"
   ]
  },
  {
   "cell_type": "code",
   "execution_count": null,
   "metadata": {},
   "outputs": [],
   "source": [
    "block_1=models.Sequential()\n",
    "model=models.Sequential()\n",
    "block_1.add(layers.Conv2D(64,(7,7),strides=2,padding=\"same\",activation=\"relu\",input_shape=(112,112,3)))\n",
    "block_1.add(layers.MaxPooling2D((3,3),strides=2))\n",
    "block_1.add( BatchNormalization())\n",
    "block_2_incp=models.Sequential()\n",
    "block_2_incp.add(layers.Conv2D(64,(1,1),activation=\"relu\"))\n",
    "block_2_incp.add(layers.Conv2D(192,(3,3),activation=\"relu\"))\n",
    "block_2_incp.add(BatchNormalization())\n",
    "block_2_incp.add(layers.MaxPooling2D((3,3),strides=2))\n"
   ]
  },
  {
   "cell_type": "code",
   "execution_count": null,
   "metadata": {},
   "outputs": [],
   "source": [
    "block_3a=models.Sequential()\n",
    "tower_1_3a=Sequential()\n",
    "tower_2_3a=Sequential()\n",
    "tower_3_3a=Sequential()\n",
    "tower_1_3a.add(layers.Conv2D(96,(1,1),activation=\"relu\"))\n",
    "tower_1_3a.add(layers.Conv2D(128,(3,3),activation=\"relu\"))\n",
    "tower_2_3a.add(layers.Conv2D(16,(1,1),activation=\"relu\"))\n",
    "tower_2_3a.add(layers.Conv2D(32,(5,5),activation=\"relu\"))\n",
    "tower_3_3a.add(layers.MaxPooling2D((3,3),strides=2))\n",
    "tower_3_3a.add(layers.Conv2D(32,(1,1),activation=\"relu\"))\n",
    "block_3a=layers.merge([tower_1_3a,tower_2_3a,tower_3_3a,layers.Conv2D(64,(1,1),activation=\"relu\")],mode='concat',concat_axis=1)\n"
   ]
  },
  {
   "cell_type": "code",
   "execution_count": null,
   "metadata": {},
   "outputs": [],
   "source": [
    "block_3b=models.Sequential()\n",
    "tower_1_3b=Sequential()\n",
    "tower_2_3b=Sequential()\n",
    "tower_3_3b=Sequential()\n",
    "tower_1_3b.add(layers.Conv2D(96,(1,1),activation=\"relu\"))\n",
    "tower_1_3b.add(layers.Conv2D(128,(3,3),activation=\"relu\"))\n",
    "tower_2_3b.add(layers.Conv2D(32,(1,1),activation=\"relu\"))\n",
    "tower_2_3b.add(layers.Conv2D(64,(5,5),activation=\"relu\"))\n",
    "tower_3_3b.add(layers.MaxPooling2D((3,3),strides=2))\n",
    "tower_3_3b.add(layers.Conv2D(64,(1,1),activation=\"relu\"))\n",
    "block_3b=layers.merge([tower_1_3a,tower_2_3a,tower_3_3a,layers.Conv2D(64,(1,1),activation=\"relu\")],mode='concat',concat_axis=1)\n"
   ]
  },
  {
   "cell_type": "code",
   "execution_count": null,
   "metadata": {},
   "outputs": [],
   "source": []
  },
  {
   "cell_type": "code",
   "execution_count": null,
   "metadata": {},
   "outputs": [],
   "source": []
  },
  {
   "cell_type": "code",
   "execution_count": null,
   "metadata": {},
   "outputs": [],
   "source": []
  },
  {
   "cell_type": "code",
   "execution_count": null,
   "metadata": {},
   "outputs": [],
   "source": []
  }
 ],
 "metadata": {
  "kernelspec": {
   "display_name": "Python 3",
   "language": "python",
   "name": "python3"
  },
  "language_info": {
   "codemirror_mode": {
    "name": "ipython",
    "version": 3
   },
   "file_extension": ".py",
   "mimetype": "text/x-python",
   "name": "python",
   "nbconvert_exporter": "python",
   "pygments_lexer": "ipython3",
   "version": "3.6.4"
  }
 },
 "nbformat": 4,
 "nbformat_minor": 2
}
